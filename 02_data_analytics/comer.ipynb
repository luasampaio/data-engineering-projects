{
 "cells": [
  {
   "cell_type": "code",
   "execution_count": 1,
   "metadata": {},
   "outputs": [
    {
     "name": "stdout",
     "output_type": "stream",
     "text": [
      "tente novamente\n",
      "fim do programa\n"
     ]
    }
   ],
   "source": [
    "vontade = input('o que você quer comer? ')\n",
    "if vontade == 'Lanche':\n",
    "    print('vá ao méqui')\n",
    "elif vontade == 'Pizza':\n",
    "    print('vá ao hut')\n",
    "elif vontade == 'Mexicano':\n",
    "    print('vá ao bell')\n",
    "else:\n",
    "    print('tente novamente')\n",
    "\n",
    "print('fim do programa')"
   ]
  },
  {
   "cell_type": "code",
   "execution_count": null,
   "metadata": {},
   "outputs": [],
   "source": []
  }
 ],
 "metadata": {
  "kernelspec": {
   "display_name": "base",
   "language": "python",
   "name": "python3"
  },
  "language_info": {
   "codemirror_mode": {
    "name": "ipython",
    "version": 3
   },
   "file_extension": ".py",
   "mimetype": "text/x-python",
   "name": "python",
   "nbconvert_exporter": "python",
   "pygments_lexer": "ipython3",
   "version": "3.12.7"
  }
 },
 "nbformat": 4,
 "nbformat_minor": 2
}
