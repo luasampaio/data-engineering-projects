{
 "cells": [
  {
   "cell_type": "code",
   "execution_count": null,
   "id": "61667cca",
   "metadata": {},
   "outputs": [
    {
     "name": "stdout",
     "output_type": "stream",
     "text": [
      "Luciana is 38 years old. Employee is a developer with the salary of $1200\n",
      "Lauren is 44 years old. Employee is a tester with the salary of $1200.0\n"
     ]
    }
   ],
   "source": [
    "\n",
    "employee1 = {\n",
    "    \"name\": \"Luciana\",\n",
    "    \"age\": 38,\n",
    "    \"position\": \"developer\",\n",
    "    \"salary\": 1200\n",
    "}\n",
    "employee2 = {\n",
    "    \"name\": \"Lauren\",\n",
    "    \"age\": 44,\n",
    "    \"position\": \"tester\",\n",
    "    \"salary\": 1000\n",
    "}\n",
    "\n",
    "\n",
    "def init_employee(name, age, position, salary):\n",
    "    return {\n",
    "        \"name\": name,\n",
    "        \"age\": age,\n",
    "        \"position\": position,\n",
    "        \"salary\": salary\n",
    "    }\n",
    "\n",
    "\n",
    "employee3 = init_employee(\"Mateo\", 38, \"developer\", 200)\n",
    "\n",
    "\n",
    "def increase_salary(employee, percent):\n",
    "    employee['salary'] += employee['salary'] * (percent/100)\n",
    "\n",
    "\n",
    "def employee_info(employee):\n",
    "    print(f\"{employee['name']} is {employee['age']} years old. Employee is a {employee['position']} with the salary of ${employee['salary']}\")\n",
    "\n",
    "\n",
    "employees = [employee1, employee2]\n",
    "increase_salary(employee2, 20)\n",
    "for e in employees:\n",
    "    employee_info(e)\n",
    "    # print(f\"{e[0]}s' salary is ${e[3]}\")\n",
    "    # print(f\"{e['name']} salary is ${e['salary']}\")"
   ]
  },
  {
   "cell_type": "code",
   "execution_count": 3,
   "id": "fd423b4d",
   "metadata": {},
   "outputs": [
    {
     "name": "stdout",
     "output_type": "stream",
     "text": [
      "Mateo is 38 years old. Employee is a developer with the salary of $200\n"
     ]
    }
   ],
   "source": [
    "employee_info(employee3)"
   ]
  },
  {
   "cell_type": "code",
   "execution_count": null,
   "id": "91bef221",
   "metadata": {},
   "outputs": [],
   "source": []
  }
 ],
 "metadata": {
  "kernelspec": {
   "display_name": "base",
   "language": "python",
   "name": "python3"
  },
  "language_info": {
   "codemirror_mode": {
    "name": "ipython",
    "version": 3
   },
   "file_extension": ".py",
   "mimetype": "text/x-python",
   "name": "python",
   "nbconvert_exporter": "python",
   "pygments_lexer": "ipython3",
   "version": "3.12.7"
  }
 },
 "nbformat": 4,
 "nbformat_minor": 5
}
