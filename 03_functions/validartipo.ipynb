{
 "cells": [
  {
   "cell_type": "code",
   "execution_count": 1,
   "id": "c9f6bfde",
   "metadata": {},
   "outputs": [],
   "source": [
    "tipos_esperados = {\n",
    "    \"id\": \"int64\",\n",
    "    \"nome\": \"object\",   # Strings em pandas normalmente aparecem como 'object'\n",
    "    \"idade\": \"int64\",\n",
    "    \"salario\": \"float64\"\n",
    "}"
   ]
  },
  {
   "cell_type": "code",
   "execution_count": 2,
   "id": "f285932c",
   "metadata": {},
   "outputs": [],
   "source": [
    "def validar_tipos(df, tipos_esperados):\n",
    "    \"\"\"\n",
    "    Valida se os tipos das colunas do DataFrame correspondem aos tipos esperados.\n",
    "    Retorna um dicionário com o status de cada coluna.\n",
    "    \"\"\"\n",
    "    resultado = {}\n",
    "    tipos_atuais = df.dtypes.apply(lambda x: x.name).to_dict()\n",
    "    \n",
    "    for coluna, tipo_esperado in tipos_esperados.items():\n",
    "        tipo_atual = tipos_atuais.get(coluna)\n",
    "        if tipo_atual is None:\n",
    "            resultado[coluna] = \"❌ Coluna não encontrada\"\n",
    "        elif tipo_atual != tipo_esperado:\n",
    "            resultado[coluna] = f\"❌ Tipo inválido (esperado: {tipo_esperado}, atual: {tipo_atual})\"\n",
    "        else:\n",
    "            resultado[coluna] = \"✅ Tipo correto\"\n",
    "    return resultado\n"
   ]
  },
  {
   "cell_type": "code",
   "execution_count": 3,
   "id": "d3e7fa8a",
   "metadata": {},
   "outputs": [
    {
     "name": "stdout",
     "output_type": "stream",
     "text": [
      "id: ✅ Tipo correto\n",
      "nome: ✅ Tipo correto\n",
      "idade: ✅ Tipo correto\n",
      "salario: ✅ Tipo correto\n"
     ]
    }
   ],
   "source": [
    "import pandas as pd\n",
    "\n",
    "# Exemplo de DataFrame\n",
    "df = pd.DataFrame({\n",
    "    \"id\": [19, 26, 37],\n",
    "    \"nome\": [\"Luciana\", \"Maria\", \"Paulo\"],\n",
    "    \"idade\": [22, 34, 29],\n",
    "    \"salario\": [2000.0, 3500.5, 2700.0]\n",
    "})\n",
    "\n",
    "# Validação\n",
    "resultado = validar_tipos(df, tipos_esperados)\n",
    "for coluna, status in resultado.items():\n",
    "    print(f\"{coluna}: {status}\")\n"
   ]
  },
  {
   "cell_type": "code",
   "execution_count": 5,
   "id": "beeef201",
   "metadata": {},
   "outputs": [
    {
     "data": {
      "text/html": [
       "<div>\n",
       "<style scoped>\n",
       "    .dataframe tbody tr th:only-of-type {\n",
       "        vertical-align: middle;\n",
       "    }\n",
       "\n",
       "    .dataframe tbody tr th {\n",
       "        vertical-align: top;\n",
       "    }\n",
       "\n",
       "    .dataframe thead th {\n",
       "        text-align: right;\n",
       "    }\n",
       "</style>\n",
       "<table border=\"1\" class=\"dataframe\">\n",
       "  <thead>\n",
       "    <tr style=\"text-align: right;\">\n",
       "      <th></th>\n",
       "      <th>id</th>\n",
       "      <th>nome</th>\n",
       "      <th>idade</th>\n",
       "      <th>salario</th>\n",
       "    </tr>\n",
       "  </thead>\n",
       "  <tbody>\n",
       "    <tr>\n",
       "      <th>0</th>\n",
       "      <td>19</td>\n",
       "      <td>Luciana</td>\n",
       "      <td>22</td>\n",
       "      <td>2000.0</td>\n",
       "    </tr>\n",
       "    <tr>\n",
       "      <th>1</th>\n",
       "      <td>26</td>\n",
       "      <td>Maria</td>\n",
       "      <td>34</td>\n",
       "      <td>3500.5</td>\n",
       "    </tr>\n",
       "    <tr>\n",
       "      <th>2</th>\n",
       "      <td>37</td>\n",
       "      <td>Paulo</td>\n",
       "      <td>29</td>\n",
       "      <td>2700.0</td>\n",
       "    </tr>\n",
       "  </tbody>\n",
       "</table>\n",
       "</div>"
      ],
      "text/plain": [
       "   id     nome  idade  salario\n",
       "0  19  Luciana     22   2000.0\n",
       "1  26    Maria     34   3500.5\n",
       "2  37    Paulo     29   2700.0"
      ]
     },
     "execution_count": 5,
     "metadata": {},
     "output_type": "execute_result"
    }
   ],
   "source": [
    "df.head()"
   ]
  },
  {
   "cell_type": "code",
   "execution_count": 6,
   "id": "6f3f510c",
   "metadata": {},
   "outputs": [
    {
     "name": "stdout",
     "output_type": "stream",
     "text": [
      "<class 'pandas.core.frame.DataFrame'>\n",
      "RangeIndex: 3 entries, 0 to 2\n",
      "Data columns (total 4 columns):\n",
      " #   Column   Non-Null Count  Dtype  \n",
      "---  ------   --------------  -----  \n",
      " 0   id       3 non-null      int64  \n",
      " 1   nome     3 non-null      object \n",
      " 2   idade    3 non-null      int64  \n",
      " 3   salario  3 non-null      float64\n",
      "dtypes: float64(1), int64(2), object(1)\n",
      "memory usage: 228.0+ bytes\n"
     ]
    }
   ],
   "source": [
    "df.info()"
   ]
  },
  {
   "cell_type": "code",
   "execution_count": 7,
   "id": "8e1c7b1e",
   "metadata": {},
   "outputs": [
    {
     "data": {
      "text/html": [
       "<div>\n",
       "<style scoped>\n",
       "    .dataframe tbody tr th:only-of-type {\n",
       "        vertical-align: middle;\n",
       "    }\n",
       "\n",
       "    .dataframe tbody tr th {\n",
       "        vertical-align: top;\n",
       "    }\n",
       "\n",
       "    .dataframe thead th {\n",
       "        text-align: right;\n",
       "    }\n",
       "</style>\n",
       "<table border=\"1\" class=\"dataframe\">\n",
       "  <thead>\n",
       "    <tr style=\"text-align: right;\">\n",
       "      <th></th>\n",
       "      <th>id</th>\n",
       "      <th>idade</th>\n",
       "      <th>salario</th>\n",
       "    </tr>\n",
       "  </thead>\n",
       "  <tbody>\n",
       "    <tr>\n",
       "      <th>count</th>\n",
       "      <td>3.000000</td>\n",
       "      <td>3.000000</td>\n",
       "      <td>3.000000</td>\n",
       "    </tr>\n",
       "    <tr>\n",
       "      <th>mean</th>\n",
       "      <td>27.333333</td>\n",
       "      <td>28.333333</td>\n",
       "      <td>2733.500000</td>\n",
       "    </tr>\n",
       "    <tr>\n",
       "      <th>std</th>\n",
       "      <td>9.073772</td>\n",
       "      <td>6.027714</td>\n",
       "      <td>750.810728</td>\n",
       "    </tr>\n",
       "    <tr>\n",
       "      <th>min</th>\n",
       "      <td>19.000000</td>\n",
       "      <td>22.000000</td>\n",
       "      <td>2000.000000</td>\n",
       "    </tr>\n",
       "    <tr>\n",
       "      <th>25%</th>\n",
       "      <td>22.500000</td>\n",
       "      <td>25.500000</td>\n",
       "      <td>2350.000000</td>\n",
       "    </tr>\n",
       "    <tr>\n",
       "      <th>50%</th>\n",
       "      <td>26.000000</td>\n",
       "      <td>29.000000</td>\n",
       "      <td>2700.000000</td>\n",
       "    </tr>\n",
       "    <tr>\n",
       "      <th>75%</th>\n",
       "      <td>31.500000</td>\n",
       "      <td>31.500000</td>\n",
       "      <td>3100.250000</td>\n",
       "    </tr>\n",
       "    <tr>\n",
       "      <th>max</th>\n",
       "      <td>37.000000</td>\n",
       "      <td>34.000000</td>\n",
       "      <td>3500.500000</td>\n",
       "    </tr>\n",
       "  </tbody>\n",
       "</table>\n",
       "</div>"
      ],
      "text/plain": [
       "              id      idade      salario\n",
       "count   3.000000   3.000000     3.000000\n",
       "mean   27.333333  28.333333  2733.500000\n",
       "std     9.073772   6.027714   750.810728\n",
       "min    19.000000  22.000000  2000.000000\n",
       "25%    22.500000  25.500000  2350.000000\n",
       "50%    26.000000  29.000000  2700.000000\n",
       "75%    31.500000  31.500000  3100.250000\n",
       "max    37.000000  34.000000  3500.500000"
      ]
     },
     "execution_count": 7,
     "metadata": {},
     "output_type": "execute_result"
    }
   ],
   "source": [
    "df.describe()"
   ]
  },
  {
   "cell_type": "code",
   "execution_count": null,
   "id": "9860ac1f",
   "metadata": {},
   "outputs": [],
   "source": []
  }
 ],
 "metadata": {
  "kernelspec": {
   "display_name": "base",
   "language": "python",
   "name": "python3"
  },
  "language_info": {
   "codemirror_mode": {
    "name": "ipython",
    "version": 3
   },
   "file_extension": ".py",
   "mimetype": "text/x-python",
   "name": "python",
   "nbconvert_exporter": "python",
   "pygments_lexer": "ipython3",
   "version": "3.12.7"
  }
 },
 "nbformat": 4,
 "nbformat_minor": 5
}
