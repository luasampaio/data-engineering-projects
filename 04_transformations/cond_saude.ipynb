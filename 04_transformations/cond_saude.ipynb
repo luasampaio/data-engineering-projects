{
 "cells": [
  {
   "cell_type": "code",
   "execution_count": 1,
   "metadata": {},
   "outputs": [],
   "source": [
    "import pandas as pd"
   ]
  },
  {
   "cell_type": "code",
   "execution_count": 2,
   "metadata": {},
   "outputs": [],
   "source": [
    "import pandas as pd\n",
    "\n",
    "# Carregar o DataFrame principal\n",
    "df = pd.read_excel('cond_saude.xlsx')\n"
   ]
  },
  {
   "cell_type": "code",
   "execution_count": 3,
   "metadata": {},
   "outputs": [
    {
     "data": {
      "text/html": [
       "<div>\n",
       "<style scoped>\n",
       "    .dataframe tbody tr th:only-of-type {\n",
       "        vertical-align: middle;\n",
       "    }\n",
       "\n",
       "    .dataframe tbody tr th {\n",
       "        vertical-align: top;\n",
       "    }\n",
       "\n",
       "    .dataframe thead th {\n",
       "        text-align: right;\n",
       "    }\n",
       "</style>\n",
       "<table border=\"1\" class=\"dataframe\">\n",
       "  <thead>\n",
       "    <tr style=\"text-align: right;\">\n",
       "      <th></th>\n",
       "      <th>active</th>\n",
       "      <th>utilizar</th>\n",
       "      <th>DSC_FRM_CLN</th>\n",
       "      <th>COD_PRM</th>\n",
       "      <th>TIPO_PRM</th>\n",
       "      <th>COND_SAUDE</th>\n",
       "      <th>resource_fhir</th>\n",
       "      <th>operador_logico</th>\n",
       "      <th>valor</th>\n",
       "      <th>subgrupo</th>\n",
       "      <th>probabilistico</th>\n",
       "    </tr>\n",
       "  </thead>\n",
       "  <tbody>\n",
       "    <tr>\n",
       "      <th>0</th>\n",
       "      <td>0.0</td>\n",
       "      <td>N</td>\n",
       "      <td>ACIONAMENTO TRR - CODIGO AMARELO</td>\n",
       "      <td>TRRGLICE</td>\n",
       "      <td>NaN</td>\n",
       "      <td>PROB DIABETES</td>\n",
       "      <td>Condition</td>\n",
       "      <td>NaN</td>\n",
       "      <td>NaN</td>\n",
       "      <td>NaN</td>\n",
       "      <td>NaN</td>\n",
       "    </tr>\n",
       "    <tr>\n",
       "      <th>1</th>\n",
       "      <td>0.0</td>\n",
       "      <td>N</td>\n",
       "      <td>ACOMPANHAMENTO DA CONTENCAO MECANICA</td>\n",
       "      <td>DEXTRO</td>\n",
       "      <td>NaN</td>\n",
       "      <td>PROB DIABETES SE &gt;200</td>\n",
       "      <td>Observation</td>\n",
       "      <td>NaN</td>\n",
       "      <td>NaN</td>\n",
       "      <td>NaN</td>\n",
       "      <td>NaN</td>\n",
       "    </tr>\n",
       "    <tr>\n",
       "      <th>2</th>\n",
       "      <td>0.0</td>\n",
       "      <td>N</td>\n",
       "      <td>ACOMPANHAMENTO DE TRANSFUSAO</td>\n",
       "      <td>TBHGLICE</td>\n",
       "      <td>NaN</td>\n",
       "      <td>PROB DIABETES SE &gt;200</td>\n",
       "      <td>Observation</td>\n",
       "      <td>NaN</td>\n",
       "      <td>NaN</td>\n",
       "      <td>NaN</td>\n",
       "      <td>NaN</td>\n",
       "    </tr>\n",
       "    <tr>\n",
       "      <th>3</th>\n",
       "      <td>0.0</td>\n",
       "      <td>N</td>\n",
       "      <td>ADMISSAO DE ENFERMAGEM</td>\n",
       "      <td>SUPNEFRO</td>\n",
       "      <td>BOTÃO</td>\n",
       "      <td>IRC</td>\n",
       "      <td>Observation</td>\n",
       "      <td>NaN</td>\n",
       "      <td>NaN</td>\n",
       "      <td>NaN</td>\n",
       "      <td>NaN</td>\n",
       "    </tr>\n",
       "    <tr>\n",
       "      <th>4</th>\n",
       "      <td>0.0</td>\n",
       "      <td>N</td>\n",
       "      <td>ADMISSAO DE ENFERMAGEM</td>\n",
       "      <td>FAV</td>\n",
       "      <td>LÓGICO</td>\n",
       "      <td>NEFROPATIA</td>\n",
       "      <td>Condition</td>\n",
       "      <td>NaN</td>\n",
       "      <td>NaN</td>\n",
       "      <td>NaN</td>\n",
       "      <td>PROBABILÍSTICO</td>\n",
       "    </tr>\n",
       "  </tbody>\n",
       "</table>\n",
       "</div>"
      ],
      "text/plain": [
       "   active utilizar                           DSC_FRM_CLN   COD_PRM TIPO_PRM  \\\n",
       "0     0.0        N      ACIONAMENTO TRR - CODIGO AMARELO  TRRGLICE      NaN   \n",
       "1     0.0        N  ACOMPANHAMENTO DA CONTENCAO MECANICA    DEXTRO      NaN   \n",
       "2     0.0        N          ACOMPANHAMENTO DE TRANSFUSAO  TBHGLICE      NaN   \n",
       "3     0.0        N                ADMISSAO DE ENFERMAGEM  SUPNEFRO    BOTÃO   \n",
       "4     0.0        N                ADMISSAO DE ENFERMAGEM       FAV   LÓGICO   \n",
       "\n",
       "              COND_SAUDE resource_fhir operador_logico  valor subgrupo  \\\n",
       "0          PROB DIABETES     Condition             NaN    NaN      NaN   \n",
       "1  PROB DIABETES SE >200   Observation             NaN    NaN      NaN   \n",
       "2  PROB DIABETES SE >200   Observation             NaN    NaN      NaN   \n",
       "3                    IRC   Observation             NaN    NaN      NaN   \n",
       "4             NEFROPATIA     Condition             NaN    NaN      NaN   \n",
       "\n",
       "   probabilistico  \n",
       "0             NaN  \n",
       "1             NaN  \n",
       "2             NaN  \n",
       "3             NaN  \n",
       "4  PROBABILÍSTICO  "
      ]
     },
     "execution_count": 3,
     "metadata": {},
     "output_type": "execute_result"
    }
   ],
   "source": [
    "df.head(5)"
   ]
  },
  {
   "cell_type": "code",
   "execution_count": 4,
   "metadata": {},
   "outputs": [
    {
     "data": {
      "text/plain": [
       "Index(['active', 'utilizar', 'DSC_FRM_CLN', 'COD_PRM', 'TIPO_PRM',\n",
       "       'COND_SAUDE', 'resource_fhir', 'operador_logico', 'valor', 'subgrupo',\n",
       "       'probabilistico'],\n",
       "      dtype='object')"
      ]
     },
     "execution_count": 4,
     "metadata": {},
     "output_type": "execute_result"
    }
   ],
   "source": [
    "df.columns"
   ]
  },
  {
   "cell_type": "code",
   "execution_count": 5,
   "metadata": {},
   "outputs": [
    {
     "name": "stdout",
     "output_type": "stream",
     "text": [
      "0       False\n",
      "1       False\n",
      "2       False\n",
      "3       False\n",
      "4       False\n",
      "        ...  \n",
      "9581    False\n",
      "9582    False\n",
      "9583    False\n",
      "9584    False\n",
      "9585    False\n",
      "Name: COND_SAUDE, Length: 9586, dtype: bool\n"
     ]
    }
   ],
   "source": [
    "df_filtrado = df.COND_SAUDE == 'OBESIDADE'\n",
    "print(df_filtrado)"
   ]
  },
  {
   "cell_type": "code",
   "execution_count": 6,
   "metadata": {},
   "outputs": [
    {
     "data": {
      "text/plain": [
       "0       False\n",
       "1       False\n",
       "2       False\n",
       "3       False\n",
       "4       False\n",
       "        ...  \n",
       "9581    False\n",
       "9582    False\n",
       "9583    False\n",
       "9584    False\n",
       "9585    False\n",
       "Name: COND_SAUDE, Length: 9586, dtype: bool"
      ]
     },
     "execution_count": 6,
     "metadata": {},
     "output_type": "execute_result"
    }
   ],
   "source": [
    "filtro = df['COND_SAUDE'] == 'OBESIDADE'\n",
    "filtro"
   ]
  },
  {
   "cell_type": "code",
   "execution_count": 7,
   "metadata": {},
   "outputs": [
    {
     "data": {
      "text/plain": [
       "dtype('O')"
      ]
     },
     "execution_count": 7,
     "metadata": {},
     "output_type": "execute_result"
    }
   ],
   "source": [
    "dtype = df['COND_SAUDE'].dtype\n",
    "dtype"
   ]
  },
  {
   "cell_type": "code",
   "execution_count": 8,
   "metadata": {},
   "outputs": [
    {
     "data": {
      "text/plain": [
       "Index(['active', 'utilizar', 'DSC_FRM_CLN', 'COD_PRM', 'TIPO_PRM',\n",
       "       'COND_SAUDE', 'resource_fhir', 'operador_logico', 'valor', 'subgrupo',\n",
       "       'probabilistico'],\n",
       "      dtype='object')"
      ]
     },
     "execution_count": 8,
     "metadata": {},
     "output_type": "execute_result"
    }
   ],
   "source": [
    "df.columns"
   ]
  },
  {
   "cell_type": "code",
   "execution_count": 9,
   "metadata": {},
   "outputs": [
    {
     "name": "stdout",
     "output_type": "stream",
     "text": [
      "active              float64\n",
      "utilizar             object\n",
      "DSC_FRM_CLN          object\n",
      "COD_PRM              object\n",
      "TIPO_PRM             object\n",
      "COND_SAUDE         category\n",
      "resource_fhir        object\n",
      "operador_logico      object\n",
      "valor               float64\n",
      "subgrupo             object\n",
      "probabilistico       object\n",
      "dtype: object\n"
     ]
    }
   ],
   "source": [
    "df['COND_SAUDE'] = df['COND_SAUDE'].astype('category')\n",
    "print(df.dtypes)"
   ]
  },
  {
   "cell_type": "code",
   "execution_count": 10,
   "metadata": {},
   "outputs": [
    {
     "data": {
      "text/plain": [
       "['PROB DIABETES', 'PROB DIABETES SE >200', 'IRC', 'NEFROPATIA', 'ICC', ..., 'DOENÇA NEUROMUSCULAR', 'PROVÁVEL ARRITMIA', 'DOENÇA RENAL', 'TEV', NaN]\n",
       "Length: 44\n",
       "Categories (43, object): ['ALERGIA', 'ARRITMIA', 'AUTISMO', 'AVC', ..., 'SEM DOENÇAS', 'SÍNDROME DE DOWN', 'TABAGISMO', 'TEV']"
      ]
     },
     "execution_count": 10,
     "metadata": {},
     "output_type": "execute_result"
    }
   ],
   "source": [
    "df['COND_SAUDE'].unique()"
   ]
  },
  {
   "cell_type": "code",
   "execution_count": 11,
   "metadata": {},
   "outputs": [
    {
     "data": {
      "text/plain": [
       "0               PROB DIABETES\n",
       "1       PROB DIABETES SE >200\n",
       "2       PROB DIABETES SE >200\n",
       "3                         IRC\n",
       "4                  NEFROPATIA\n",
       "                ...          \n",
       "9581                      NaN\n",
       "9582                      NaN\n",
       "9583                      NaN\n",
       "9584                      NaN\n",
       "9585                      NaN\n",
       "Name: COND_SAUDE, Length: 9586, dtype: category\n",
       "Categories (43, object): ['ALERGIA', 'ARRITMIA', 'AUTISMO', 'AVC', ..., 'SEM DOENÇAS', 'SÍNDROME DE DOWN', 'TABAGISMO', 'TEV']"
      ]
     },
     "execution_count": 11,
     "metadata": {},
     "output_type": "execute_result"
    }
   ],
   "source": [
    "df.COND_SAUDE"
   ]
  },
  {
   "cell_type": "code",
   "execution_count": null,
   "metadata": {},
   "outputs": [],
   "source": []
  }
 ],
 "metadata": {
  "kernelspec": {
   "display_name": "base",
   "language": "python",
   "name": "python3"
  },
  "language_info": {
   "codemirror_mode": {
    "name": "ipython",
    "version": 3
   },
   "file_extension": ".py",
   "mimetype": "text/x-python",
   "name": "python",
   "nbconvert_exporter": "python",
   "pygments_lexer": "ipython3",
   "version": "3.12.7"
  }
 },
 "nbformat": 4,
 "nbformat_minor": 2
}
