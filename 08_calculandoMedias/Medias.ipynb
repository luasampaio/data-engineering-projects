{
 "cells": [
  {
   "cell_type": "markdown",
   "id": "c1153793",
   "metadata": {},
   "source": [
    "- Necessidade : agrupar os dados de uma tabela por região e calcular a média de vendas em cada uma. \n",
    "- Usando Python puro, você teria que percorrer cada linha, verificar a região e calcular a média manualmente. Com um DataFrame, você pode fazer isso em poucas linhas de código, de forma muito mais simples e legível."
   ]
  },
  {
   "cell_type": "code",
   "execution_count": 4,
   "id": "5f161ea1",
   "metadata": {},
   "outputs": [],
   "source": [
    "import pandas as pd\n",
    "import numpy as np"
   ]
  },
  {
   "cell_type": "code",
   "execution_count": 5,
   "id": "fc3dc4f5",
   "metadata": {},
   "outputs": [],
   "source": [
    "# Dados fictícios\n",
    "dados = [\n",
    "    {\"regiao\": \"Norte\", \"vendas\": 100},\n",
    "    {\"regiao\": \"Sul\", \"vendas\": 200},\n",
    "    {\"regiao\": \"Norte\", \"vendas\": 150},\n",
    "    {\"regiao\": \"Sul\", \"vendas\": 250},\n",
    "]\n"
   ]
  },
  {
   "cell_type": "code",
   "execution_count": 7,
   "id": "e246bb4b",
   "metadata": {},
   "outputs": [],
   "source": [
    "# Dicionário para armazenar as médias\n",
    "medias = {}"
   ]
  },
  {
   "cell_type": "code",
   "execution_count": 8,
   "id": "ed6b903f",
   "metadata": {},
   "outputs": [
    {
     "name": "stdout",
     "output_type": "stream",
     "text": [
      "Média de vendas na região Norte: 125.0\n",
      "Média de vendas na região Sul: 225.0\n"
     ]
    }
   ],
   "source": [
    "for linha in dados:\n",
    "    regiao = linha[\"regiao\"]\n",
    "    vendas = linha[\"vendas\"]\n",
    "    \n",
    "    if regiao not in medias:\n",
    "        medias[regiao] = {\"total\": 0, \"qtd\": 0}\n",
    "    \n",
    "    medias[regiao][\"total\"] += vendas\n",
    "    medias[regiao][\"qtd\"] += 1\n",
    "\n",
    "for regiao, valores in medias.items():\n",
    "    media = valores[\"total\"] / valores[\"qtd\"]\n",
    "    print(f\"Média de vendas na região {regiao}: {media}\")"
   ]
  },
  {
   "cell_type": "code",
   "execution_count": 9,
   "id": "af302dfa",
   "metadata": {},
   "outputs": [],
   "source": [
    "# Dados fictícios\n",
    "dados = {\n",
    "    \"regiao\": [\"Norte\", \"Sul\", \"Norte\", \"Sul\"],\n",
    "    \"vendas\": [100, 200, 150, 250]\n",
    "}"
   ]
  },
  {
   "cell_type": "code",
   "execution_count": 10,
   "id": "d30bc1d2",
   "metadata": {},
   "outputs": [],
   "source": [
    "df = pd.DataFrame(dados)"
   ]
  },
  {
   "cell_type": "code",
   "execution_count": null,
   "id": "f4a16a6f",
   "metadata": {},
   "outputs": [
    {
     "name": "stdout",
     "output_type": "stream",
     "text": [
      "regiao\n",
      "Norte    125.0\n",
      "Sul      225.0\n",
      "Name: vendas, dtype: float64\n"
     ]
    },
    {
     "ename": "",
     "evalue": "",
     "output_type": "error",
     "traceback": [
      "\u001b[1;31mO Kernel deu pane ao executar o código na célula atual ou em uma célula anterior. \n",
      "\u001b[1;31mAnalise o código nas células para identificar uma possível causa da pane. \n",
      "\u001b[1;31mClique <a href='https://aka.ms/vscodeJupyterKernelCrash'>aqui</a> para obter mais informações. \n",
      "\u001b[1;31mConsulte Jupyter <a href='command:jupyter.viewOutput'>log</a> para obter mais detalhes."
     ]
    }
   ],
   "source": [
    "# Cálculo das médias\n",
    "medias = df.groupby(\"regiao\")[\"vendas\"].mean()\n",
    "print(medias)"
   ]
  },
  {
   "cell_type": "markdown",
   "id": "16634bdd",
   "metadata": {},
   "source": [
    "# O que é um DataFrame?\n",
    "Um DataFrame é como uma \"super tabela\" que ajuda a organizar e manipular dados de forma eficiente em Python. Ele é uma das estruturas de dados fundamentais na análise e engenharia de dados, tornando as tarefas mais intuitivas e produtivas."
   ]
  },
  {
   "cell_type": "code",
   "execution_count": null,
   "id": "99b1b7b9",
   "metadata": {},
   "outputs": [],
   "source": []
  }
 ],
 "metadata": {
  "kernelspec": {
   "display_name": "base",
   "language": "python",
   "name": "python3"
  },
  "language_info": {
   "codemirror_mode": {
    "name": "ipython",
    "version": 3
   },
   "file_extension": ".py",
   "mimetype": "text/x-python",
   "name": "python",
   "nbconvert_exporter": "python",
   "pygments_lexer": "ipython3",
   "version": "3.12.7"
  }
 },
 "nbformat": 4,
 "nbformat_minor": 5
}
