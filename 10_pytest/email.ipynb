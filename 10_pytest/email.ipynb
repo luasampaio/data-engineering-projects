{
 "cells": [
  {
   "cell_type": "code",
   "execution_count": 1,
   "id": "ce39da41",
   "metadata": {},
   "outputs": [],
   "source": [
    "import re\n",
    "def transform_email(email):\n",
    "    match = re.match(r'^([^@]+)@', email)\n",
    "    if match:\n",
    "        username = match.group(1)\n",
    "        username = re.sub(r'[._]', '_', username)\n",
    "        return username\n",
    "    else:\n",
    "        return None\n"
   ]
  },
  {
   "cell_type": "code",
   "execution_count": 2,
   "id": "69671878",
   "metadata": {},
   "outputs": [
    {
     "data": {
      "text/plain": [
       "'luciana_sampaio84'"
      ]
     },
     "execution_count": 2,
     "metadata": {},
     "output_type": "execute_result"
    }
   ],
   "source": [
    "transform_email('luciana.sampaio84@gmail.com')"
   ]
  },
  {
   "cell_type": "code",
   "execution_count": null,
   "id": "da1c475b",
   "metadata": {},
   "outputs": [],
   "source": []
  }
 ],
 "metadata": {
  "kernelspec": {
   "display_name": "base",
   "language": "python",
   "name": "python3"
  },
  "language_info": {
   "codemirror_mode": {
    "name": "ipython",
    "version": 3
   },
   "file_extension": ".py",
   "mimetype": "text/x-python",
   "name": "python",
   "nbconvert_exporter": "python",
   "pygments_lexer": "ipython3",
   "version": "3.12.7"
  }
 },
 "nbformat": 4,
 "nbformat_minor": 5
}
