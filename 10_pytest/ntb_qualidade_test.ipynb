{
 "cells": [
  {
   "cell_type": "code",
   "execution_count": 1,
   "id": "68b76d9b",
   "metadata": {},
   "outputs": [],
   "source": [
    "import pandas as pd\n",
    "import os"
   ]
  },
  {
   "cell_type": "code",
   "execution_count": 2,
   "id": "af8d45c8",
   "metadata": {},
   "outputs": [
    {
     "data": {
      "text/plain": [
       "'e:\\\\data-engineering-projects\\\\10_pytest'"
      ]
     },
     "execution_count": 2,
     "metadata": {},
     "output_type": "execute_result"
    }
   ],
   "source": [
    "os.getcwd()"
   ]
  },
  {
   "cell_type": "code",
   "execution_count": null,
   "id": "4c190ab8",
   "metadata": {},
   "outputs": [
    {
     "data": {
      "text/plain": [
       "['ntb_qualidade_test.ipynb', 'pydeequ_colab.ipynb']"
      ]
     },
     "execution_count": 3,
     "metadata": {},
     "output_type": "execute_result"
    }
   ],
   "source": [
    "# diretorio atual\n",
    "os.listdir('.')"
   ]
  },
  {
   "cell_type": "code",
   "execution_count": 4,
   "id": "89dfa6fa",
   "metadata": {},
   "outputs": [
    {
     "data": {
      "text/plain": [
       "<function nt.chdir(path)>"
      ]
     },
     "execution_count": 4,
     "metadata": {},
     "output_type": "execute_result"
    }
   ],
   "source": [
    "os.chdir"
   ]
  },
  {
   "cell_type": "code",
   "execution_count": 6,
   "id": "1884f225",
   "metadata": {},
   "outputs": [
    {
     "name": "stdout",
     "output_type": "stream",
     "text": [
      "<built-in function _path_exists>\n"
     ]
    }
   ],
   "source": [
    "print(os.path.exists)"
   ]
  },
  {
   "cell_type": "code",
   "execution_count": 7,
   "id": "6281390a",
   "metadata": {},
   "outputs": [],
   "source": [
    "months_dict = {\n",
    "    \"January\":    [\"Januar\",    \"Jan.\", \"janvier\",     \"janv.\", \"gennaio\",    \"gen.\"],\n",
    "    \"February\":   [\"Februar\",   \"Feb.\", \"février\",     \"fév.\",  \"febbraio\",   \"feb.\"],\n",
    "    \"March\":      [\"März\",      \"Mär.\", \"mars\",        \"mar.\",  \"marzo\",      \"mar.\"],\n",
    "    \"April\":      [\"April\",     \"Apr.\", \"avril\",       \"avr.\",  \"aprile\",     \"apr.\"],\n",
    "    \"May\":        [\"Mai\",       \"Mai.\", \"mai\",         \"mai.\",  \"maggio\",     \"mag.\"],\n",
    "    \"June\":       [\"Juni\",      \"Jun.\", \"juin\",        \"jui.\",  \"giugno\",     \"giu.\"],\n",
    "    \"July\":       [\"Juli\",      \"Jul.\", \"juillet\",     \"juil.\", \"luglio\",     \"lug.\"],\n",
    "    \"August\":     [\"August\",    \"Aug.\", \"août\",        \"aoû.\",  \"agosto\",     \"ago.\"],\n",
    "    \"September\":  [\"September\", \"Sep.\", \"septembre\",   \"sept.\", \"settembre\",  \"set.\"],\n",
    "    \"October\":    [\"Oktober\",   \"Okt.\", \"octobre\",     \"oct.\",  \"ottobre\",    \"ott.\"],\n",
    "    \"November\":   [\"November\",  \"Nov.\", \"novembre\",    \"nov.\",  \"novembre\",   \"nov.\"],\n",
    "    \"December\":   [\"Dezember\",  \"Dez.\", \"décembre\",    \"déc.\",  \"dicembre\",   \"dic.\"],\n",
    "}"
   ]
  },
  {
   "cell_type": "code",
   "execution_count": 8,
   "id": "e6d6263f",
   "metadata": {},
   "outputs": [],
   "source": [
    "days_dict = {\n",
    "    \"Monday\":     [\"Montag\",      \"Mo.\", \"lundi\",    \"lun.\", \"lunedì\",    \"lun.\"],\n",
    "    \"Tuesday\":    [\"Dienstag\",    \"Di.\", \"mardi\",    \"mar.\", \"martedì\",   \"mar.\"],\n",
    "    \"Wednesday\":  [\"Mittwoch\",    \"Mi.\", \"mercredi\", \"mer.\", \"mercoledì\", \"mer.\"],\n",
    "    \"Thursday\":   [\"Donnerstag\",  \"Do.\", \"jeudi\",    \"jeu.\", \"giovedì\",   \"gio.\"],\n",
    "    \"Friday\":     [\"Freitag\",     \"Fr.\", \"vendredi\", \"ven.\", \"venerdì\",   \"ven.\"],\n",
    "    \"Saturday\":   [\"Samstag\",     \"Sa.\", \"samedi\",   \"sam.\", \"sabato\",    \"sab.\"],\n",
    "    \"Sunday\":     [\"Sonntag\",     \"So.\", \"dimanche\", \"dim.\", \"domenica\",  \"dom.\"],\n",
    "}\n"
   ]
  },
  {
   "cell_type": "code",
   "execution_count": 9,
   "id": "551dfd2f",
   "metadata": {},
   "outputs": [],
   "source": [
    "date_mapping_dict = {\"Months\": months_dict, \"Days\": days_dict}"
   ]
  },
  {
   "cell_type": "code",
   "execution_count": 11,
   "id": "ed7091cb",
   "metadata": {},
   "outputs": [
    {
     "name": "stdout",
     "output_type": "stream",
     "text": [
      "{'Months': {'January': ['Januar', 'Jan.', 'janvier', 'janv.', 'gennaio', 'gen.'], 'February': ['Februar', 'Feb.', 'février', 'fév.', 'febbraio', 'feb.'], 'March': ['März', 'Mär.', 'mars', 'mar.', 'marzo', 'mar.'], 'April': ['April', 'Apr.', 'avril', 'avr.', 'aprile', 'apr.'], 'May': ['Mai', 'Mai.', 'mai', 'mai.', 'maggio', 'mag.'], 'June': ['Juni', 'Jun.', 'juin', 'jui.', 'giugno', 'giu.'], 'July': ['Juli', 'Jul.', 'juillet', 'juil.', 'luglio', 'lug.'], 'August': ['August', 'Aug.', 'août', 'aoû.', 'agosto', 'ago.'], 'September': ['September', 'Sep.', 'septembre', 'sept.', 'settembre', 'set.'], 'October': ['Oktober', 'Okt.', 'octobre', 'oct.', 'ottobre', 'ott.'], 'November': ['November', 'Nov.', 'novembre', 'nov.', 'novembre', 'nov.'], 'December': ['Dezember', 'Dez.', 'décembre', 'déc.', 'dicembre', 'dic.']}, 'Days': {'Monday': ['Montag', 'Mo.', 'lundi', 'lun.', 'lunedì', 'lun.'], 'Tuesday': ['Dienstag', 'Di.', 'mardi', 'mar.', 'martedì', 'mar.'], 'Wednesday': ['Mittwoch', 'Mi.', 'mercredi', 'mer.', 'mercoledì', 'mer.'], 'Thursday': ['Donnerstag', 'Do.', 'jeudi', 'jeu.', 'giovedì', 'gio.'], 'Friday': ['Freitag', 'Fr.', 'vendredi', 'ven.', 'venerdì', 'ven.'], 'Saturday': ['Samstag', 'Sa.', 'samedi', 'sam.', 'sabato', 'sab.'], 'Sunday': ['Sonntag', 'So.', 'dimanche', 'dim.', 'domenica', 'dom.']}}\n"
     ]
    }
   ],
   "source": [
    "print(date_mapping_dict)"
   ]
  },
  {
   "cell_type": "code",
   "execution_count": null,
   "id": "bdd8998d",
   "metadata": {},
   "outputs": [],
   "source": [
    "get_window_group = udf(\n",
    "    lambda minute, window_type: time_mapping_dict[window_type][\n",
    "        next(\n",
    "            (\n",
    "                group\n",
    "                for group, window in time_mapping_dict[window_type].items()\n",
    "                if int(window.split(\"-\")[0]) <= minute < int(window.split(\"-\")[1])\n",
    "            ),\n",
    "            0,\n",
    "        )\n",
    "    ]\n",
    ")"
   ]
  }
 ],
 "metadata": {
  "kernelspec": {
   "display_name": "base",
   "language": "python",
   "name": "python3"
  },
  "language_info": {
   "codemirror_mode": {
    "name": "ipython",
    "version": 3
   },
   "file_extension": ".py",
   "mimetype": "text/x-python",
   "name": "python",
   "nbconvert_exporter": "python",
   "pygments_lexer": "ipython3",
   "version": "3.12.7"
  }
 },
 "nbformat": 4,
 "nbformat_minor": 5
}
