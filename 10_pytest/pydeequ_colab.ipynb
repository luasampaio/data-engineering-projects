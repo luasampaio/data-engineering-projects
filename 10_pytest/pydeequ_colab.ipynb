{
 "cells": [
  {
   "cell_type": "markdown",
   "id": "ec3f83e3",
   "metadata": {},
   "source": [
    "# ✅ PyDeequ no Google Colab — Exemplo Funcional"
   ]
  },
  {
   "cell_type": "code",
   "execution_count": null,
   "id": "a8353d88",
   "metadata": {},
   "outputs": [],
   "source": [
    "!pip install pyspark==3.0.3 pydeequ\n"
   ]
  },
  {
   "cell_type": "code",
   "execution_count": null,
   "id": "e3adfea6",
   "metadata": {},
   "outputs": [],
   "source": [
    "!wget https://repo1.maven.org/maven2/com/amazon/deequ/deequ/1.2.2-spark-3.0/deequ-1.2.2-spark-3.0.jar -P /content/\n"
   ]
  },
  {
   "cell_type": "code",
   "execution_count": null,
   "id": "2d7b2118",
   "metadata": {},
   "outputs": [],
   "source": [
    "from pyspark.sql import SparkSession\n",
    "\n",
    "spark = (\n",
    "    SparkSession.builder\n",
    "    .appName(\"PyDeequColab\")\n",
    "    .config(\"spark.jars\", \"/content/deequ-1.2.2-spark-3.0.jar\")\n",
    "    .getOrCreate()\n",
    ")\n",
    "\n",
    "spark.version\n"
   ]
  },
  {
   "cell_type": "code",
   "execution_count": null,
   "id": "87c5d695",
   "metadata": {},
   "outputs": [],
   "source": [
    "from pydeequ.checks import Check, CheckLevel\n",
    "from pydeequ.verification import VerificationSuite\n",
    "from pyspark.sql import Row\n",
    "\n",
    "df = spark.createDataFrame([\n",
    "    Row(id=1, valor=100),\n",
    "    Row(id=2, valor=200),\n",
    "    Row(id=3, valor=100)\n",
    "])\n",
    "\n",
    "check = Check(spark, CheckLevel.Warning, \"Validação IDs\").isUnique(\"id\")\n",
    "\n",
    "result = VerificationSuite(spark).onData(df).addCheck(check).run()\n",
    "VerificationSuite(spark).checkResultsAsDataFrame(spark, result).show()\n"
   ]
  },
  {
   "cell_type": "markdown",
   "id": "1331deb8",
   "metadata": {},
   "source": [
    "✅ **Notas:**\n",
    "- Use `CheckLevel.Warning` sem parênteses.\n",
    "- O `.jar` do Deequ precisa estar 100% compatível com sua versão Spark.\n",
    "- No Colab, sempre verifique a versão do Spark (`spark.version`).\n"
   ]
  }
 ],
 "metadata": {},
 "nbformat": 4,
 "nbformat_minor": 5
}
