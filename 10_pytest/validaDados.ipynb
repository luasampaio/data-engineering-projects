{
 "cells": [
  {
   "cell_type": "code",
   "execution_count": 1,
   "id": "ff023481",
   "metadata": {},
   "outputs": [
    {
     "name": "stdout",
     "output_type": "stream",
     "text": [
      "✅ Válidos: [{'nome': 'Alice', 'cpf': '12345678901', 'email': 'alice@email.com', 'data_nascimento': '2000-05-10'}]\n",
      "❌ Inválidos: [({'nome': 'Bob', 'cpf': '12345678', 'email': 'bob@', 'data_nascimento': '2030-01-01'}, ['CPF inválido', 'Email inválido', 'Data de nascimento no futuro'])]\n"
     ]
    }
   ],
   "source": [
    "import re\n",
    "from datetime import datetime\n",
    "\n",
    "# Simulação de registros\n",
    "dados = [\n",
    "    {\"nome\": \"Alice\", \"cpf\": \"12345678901\", \"email\": \"alice@email.com\", \"data_nascimento\": \"2000-05-10\"},\n",
    "    {\"nome\": \"Bob\", \"cpf\": \"12345678\", \"email\": \"bob@\", \"data_nascimento\": \"2030-01-01\"}\n",
    "]\n",
    "\n",
    "registros_validos = []\n",
    "registros_invalidos = []\n",
    "\n",
    "for registro in dados:\n",
    "    erros = []\n",
    "\n",
    "    if not registro[\"nome\"]:\n",
    "        erros.append(\"Nome vazio\")\n",
    "    if len(registro[\"cpf\"]) != 11:\n",
    "        erros.append(\"CPF inválido\")\n",
    "    if not re.match(r'^[\\w\\.-]+@[\\w\\.-]+\\.\\w+$', registro[\"email\"]):\n",
    "        erros.append(\"Email inválido\")\n",
    "    if datetime.strptime(registro[\"data_nascimento\"], \"%Y-%m-%d\") > datetime.today():\n",
    "        erros.append(\"Data de nascimento no futuro\")\n",
    "\n",
    "    if erros:\n",
    "        registros_invalidos.append((registro, erros))\n",
    "    else:\n",
    "        registros_validos.append(registro)\n",
    "\n",
    "print(\"✅ Válidos:\", registros_validos)\n",
    "print(\"❌ Inválidos:\", registros_invalidos)\n"
   ]
  }
 ],
 "metadata": {
  "kernelspec": {
   "display_name": "base",
   "language": "python",
   "name": "python3"
  },
  "language_info": {
   "codemirror_mode": {
    "name": "ipython",
    "version": 3
   },
   "file_extension": ".py",
   "mimetype": "text/x-python",
   "name": "python",
   "nbconvert_exporter": "python",
   "pygments_lexer": "ipython3",
   "version": "3.12.7"
  }
 },
 "nbformat": 4,
 "nbformat_minor": 5
}
