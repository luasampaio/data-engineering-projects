{
 "cells": [
  {
   "cell_type": "markdown",
   "id": "9f45db5b",
   "metadata": {},
   "source": []
  },
  {
   "cell_type": "code",
   "execution_count": null,
   "id": "668df0cc",
   "metadata": {},
   "outputs": [],
   "source": [
    "\n",
    "## 🗂️ Exemplo: Checar arquivo vazio antes de salvar no Delta\n",
    "from pyspark.sql import DataFrame\n",
    "from pyspark.sql.functions import col\n",
    "from pyspark.sql import SparkSession\n",
    "\n",
    "# Inicializa a SparkSession\n",
    "spark = SparkSession.builder \\\n",
    "    .appName(\"ValidaArquivoVazio\") \\\n",
    "    .getOrCreate()\n",
    "\n",
    "# Caminho do arquivo de entrada\n",
    "caminho_arquivo = \"dbfs:/mnt/dados/exemplo.csv\"\n",
    "\n",
    "# Lê o arquivo\n",
    "df = spark.read.format(\"csv\").option(\"header\", True).load(caminho_arquivo)\n",
    "\n",
    "# Verifica se o DataFrame está vazio\n",
    "if df.rdd.isEmpty():\n",
    "    print(f\"⚠️ Arquivo está vazio! Ingestão abortada: {caminho_arquivo}\")\n",
    "else:\n",
    "    print(f\"✅ Arquivo possui {df.count()} linhas. Continuando ingestão...\")\n",
    "\n",
    "    # Exemplo de persistir no Delta ou na Bronze\n",
    "    df.write.format(\"delta\") \\\n",
    "        .mode(\"append\") \\\n",
    "        .option(\"mergeSchema\", \"true\") \\\n",
    "        .saveAsTable(\"meu_catalogo.bronze.minha_tabela\")\n",
    "\n",
    "    print(\"🎉 Ingestão realizada com sucesso!\")\n",
    "\n"
   ]
  }
 ],
 "metadata": {
  "language_info": {
   "name": "python"
  }
 },
 "nbformat": 4,
 "nbformat_minor": 5
}
