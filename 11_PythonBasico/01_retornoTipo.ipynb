{
 "cells": [
  {
   "cell_type": "code",
   "execution_count": 1,
   "id": "6eba4466",
   "metadata": {},
   "outputs": [],
   "source": [
    "numbers = [1, 2, 3, 4, 5, 6, 7, 8, 9, 10]\n",
    "items = len(numbers)\n"
   ]
  },
  {
   "cell_type": "code",
   "execution_count": null,
   "id": "a89e69b6",
   "metadata": {},
   "outputs": [
    {
     "name": "stdout",
     "output_type": "stream",
     "text": [
      "10\n"
     ]
    }
   ],
   "source": [
    "#tamanho da lista\n",
    "print(items)"
   ]
  },
  {
   "cell_type": "code",
   "execution_count": 4,
   "id": "2b918473",
   "metadata": {},
   "outputs": [],
   "source": [
    "def duplicar(x):\n",
    "    return x * 2"
   ]
  },
  {
   "cell_type": "code",
   "execution_count": 5,
   "id": "f390f4b9",
   "metadata": {},
   "outputs": [
    {
     "name": "stdout",
     "output_type": "stream",
     "text": [
      "4\n"
     ]
    }
   ],
   "source": [
    "duplicar = duplicar(2)\n",
    "print(duplicar)"
   ]
  },
  {
   "cell_type": "markdown",
   "id": "fc865b50",
   "metadata": {},
   "source": [
    "Usando Funcoes e Retornos em Python"
   ]
  },
  {
   "cell_type": "code",
   "execution_count": 6,
   "id": "c1d6819e",
   "metadata": {},
   "outputs": [],
   "source": [
    "def criar_multiplicador(multiplicador):\n",
    "    def multiplicar(numero):\n",
    "        return numero * multiplicador\n",
    "    return multiplicar"
   ]
  },
  {
   "cell_type": "code",
   "execution_count": 8,
   "id": "dd158b20",
   "metadata": {},
   "outputs": [],
   "source": [
    "duplicar = criar_multiplicador(2)\n",
    "triplicar = criar_multiplicador(3)\n",
    "quadruplicar = criar_multiplicador(4)\n"
   ]
  },
  {
   "cell_type": "code",
   "execution_count": 9,
   "id": "42c6009c",
   "metadata": {},
   "outputs": [
    {
     "name": "stdout",
     "output_type": "stream",
     "text": [
      "4\n",
      "6\n",
      "8\n"
     ]
    }
   ],
   "source": [
    "print(duplicar(2))\n",
    "print(triplicar(2))\n",
    "print(quadruplicar(2))"
   ]
  },
  {
   "cell_type": "code",
   "execution_count": 10,
   "id": "1c4d678e",
   "metadata": {},
   "outputs": [],
   "source": [
    "from typing import List, Optional\n",
    "\n",
    "def find_first_valid_item(items: List[str], validator) -> Optional[str]:\n",
    "    \"\"\"\n",
    "    Finds the first valid item in a list using a validator function.\n",
    "    Uses break for efficiency.\n",
    "    \"\"\"\n",
    "    for item in items:\n",
    "        if validator(item):\n",
    "            return item\n",
    "        # Log the invalid item before breaking. Crucial for observability.\n",
    "\n",
    "        print(f\"Invalid item encountered: {item}\")\n",
    "    return None"
   ]
  },
  {
   "cell_type": "code",
   "execution_count": 11,
   "id": "aa45c09c",
   "metadata": {},
   "outputs": [
    {
     "name": "stdout",
     "output_type": "stream",
     "text": [
      "My name is Luciana and I am 22 years old.\n"
     ]
    }
   ],
   "source": [
    "name = \"Luciana\"\n",
    "age = 22\n",
    "print(f\"My name is {name} and I am {age} years old.\")"
   ]
  },
  {
   "cell_type": "code",
   "execution_count": null,
   "id": "778dab38",
   "metadata": {},
   "outputs": [],
   "source": [
    "import requests\n",
    "import pandas as pd\n",
    "from sqlalchemy import create_engine\n",
    "\n",
    "#%%\n",
    "# Extract function\n",
    "def extract() -> dict:\n",
    "    \"\"\"\n",
    "    Extract data from a public API.\n",
    "    This API extract data from\n",
    "    https://universities.hipolaps.com\n",
    "    \"\"\"\n",
    "    # this gives us a data in json format\n",
    "    API_URL = \"http://universities.hipolabs.com/search?country=United+States\"\n",
    "    data = requests.get(API_URL).json()\n",
    "    return data "
   ]
  }
 ],
 "metadata": {
  "kernelspec": {
   "display_name": "base",
   "language": "python",
   "name": "python3"
  },
  "language_info": {
   "codemirror_mode": {
    "name": "ipython",
    "version": 3
   },
   "file_extension": ".py",
   "mimetype": "text/x-python",
   "name": "python",
   "nbconvert_exporter": "python",
   "pygments_lexer": "ipython3",
   "version": "3.12.7"
  }
 },
 "nbformat": 4,
 "nbformat_minor": 5
}
