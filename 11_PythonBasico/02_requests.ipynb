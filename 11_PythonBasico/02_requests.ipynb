{
 "cells": [
  {
   "cell_type": "code",
   "execution_count": null,
   "id": "7c6f58da",
   "metadata": {},
   "outputs": [],
   "source": [
    "import requests\n",
    "import pandas as pd\n",
    "from sqlalchemy import create_engine\n",
    "\n",
    "#%%\n",
    "# Extract function\n",
    "def extract() -> dict:\n",
    "    \"\"\"\n",
    "    Extract data from a public API.\n",
    "    This API extract data from\n",
    "    https://universities.hipolaps.com\n",
    "    \"\"\"\n",
    "    # this gives us a data in json format\n",
    "    API_URL = \"http://universities.hipolabs.com/search?country=United+States\"\n",
    "    data = requests.get(API_URL).json()\n",
    "    return data "
   ]
  }
 ],
 "metadata": {
  "language_info": {
   "name": "python"
  }
 },
 "nbformat": 4,
 "nbformat_minor": 5
}
