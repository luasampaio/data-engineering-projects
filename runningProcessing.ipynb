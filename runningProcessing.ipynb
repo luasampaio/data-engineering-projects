{
 "cells": [
  {
   "cell_type": "code",
   "execution_count": null,
   "id": "47a295f5",
   "metadata": {},
   "outputs": [],
   "source": [
    "!pip install dask"
   ]
  },
  {
   "cell_type": "code",
   "execution_count": null,
   "id": "7f644372",
   "metadata": {},
   "outputs": [],
   "source": [
    "import dask.dataframe as dd\n",
    "import pandas as pd"
   ]
  },
  {
   "cell_type": "code",
   "execution_count": null,
   "id": "13f62643",
   "metadata": {},
   "outputs": [],
   "source": [
    "df = pd.read_csv('data_ex.csv')"
   ]
  },
  {
   "cell_type": "code",
   "execution_count": null,
   "id": "766ed08f",
   "metadata": {},
   "outputs": [],
   "source": [
    "print(df.head())    "
   ]
  },
  {
   "cell_type": "code",
   "execution_count": null,
   "id": "960b5f98",
   "metadata": {},
   "outputs": [],
   "source": [
    "df.head()"
   ]
  },
  {
   "cell_type": "code",
   "execution_count": null,
   "id": "70b7a792",
   "metadata": {},
   "outputs": [],
   "source": [
    "results = df.groupby('edad').size()"
   ]
  },
  {
   "cell_type": "code",
   "execution_count": null,
   "id": "9c3cdad4",
   "metadata": {},
   "outputs": [],
   "source": [
    "results.head()\n"
   ]
  },
  {
   "cell_type": "code",
   "execution_count": null,
   "id": "2c53ba8f",
   "metadata": {},
   "outputs": [],
   "source": []
  }
 ],
 "metadata": {
  "kernelspec": {
   "display_name": "base",
   "language": "python",
   "name": "python3"
  },
  "language_info": {
   "codemirror_mode": {
    "name": "ipython",
    "version": 3
   },
   "file_extension": ".py",
   "mimetype": "text/x-python",
   "name": "python",
   "nbconvert_exporter": "python",
   "pygments_lexer": "ipython3",
   "version": "3.12.7"
  }
 },
 "nbformat": 4,
 "nbformat_minor": 5
}
