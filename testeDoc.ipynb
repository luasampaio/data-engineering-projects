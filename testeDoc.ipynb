{
 "cells": [
  {
   "cell_type": "code",
   "execution_count": 1,
   "id": "aa1ec1ff",
   "metadata": {},
   "outputs": [],
   "source": [
    "\n",
    "\"\"\"\n",
    "Este é um exemplo simples de módulo documentado.\n",
    "\"\"\"\n",
    "\n",
    "def somar(a: int, b: int) -> int:\n",
    "    \"\"\"\n",
    "    Soma dois números inteiros.\n",
    "\n",
    "    Args:\n",
    "        a (int): Primeiro número.\n",
    "        b (int): Segundo número.\n",
    "\n",
    "    Returns:\n",
    "        int: Resultado da soma.\n",
    "    \"\"\"\n",
    "    return a + b\n"
   ]
  },
  {
   "cell_type": "code",
   "execution_count": null,
   "id": "aad4ccec",
   "metadata": {},
   "outputs": [
    {
     "ename": "",
     "evalue": "",
     "output_type": "error",
     "traceback": [
      "\u001b[1;31mO Kernel deu pane ao executar o código na célula atual ou em uma célula anterior. \n",
      "\u001b[1;31mAnalise o código nas células para identificar uma possível causa da pane. \n",
      "\u001b[1;31mClique <a href='https://aka.ms/vscodeJupyterKernelCrash'>aqui</a> para obter mais informações. \n",
      "\u001b[1;31mConsulte Jupyter <a href='command:jupyter.viewOutput'>log</a> para obter mais detalhes."
     ]
    }
   ],
   "source": [
    "def subtrair(a: int, b: int) -> int:\n",
    "    \"\"\"\n",
    "    Subtrai dois números inteiros.\n",
    "\n",
    "    Args:\n",
    "        a (int): Primeiro número.\n",
    "        b (int): Segundo número.\n",
    "\n",
    "    Returns:\n",
    "        int: Resultado da subtração.\n",
    "    \"\"\"\n",
    "    return a - b\n"
   ]
  },
  {
   "cell_type": "code",
   "execution_count": null,
   "id": "5a440950",
   "metadata": {},
   "outputs": [],
   "source": []
  }
 ],
 "metadata": {
  "kernelspec": {
   "display_name": "base",
   "language": "python",
   "name": "python3"
  },
  "language_info": {
   "codemirror_mode": {
    "name": "ipython",
    "version": 3
   },
   "file_extension": ".py",
   "mimetype": "text/x-python",
   "name": "python",
   "nbconvert_exporter": "python",
   "pygments_lexer": "ipython3",
   "version": "3.12.7"
  }
 },
 "nbformat": 4,
 "nbformat_minor": 5
}
